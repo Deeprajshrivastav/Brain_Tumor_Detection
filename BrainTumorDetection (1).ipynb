{
  "nbformat": 4,
  "nbformat_minor": 0,
  "metadata": {
    "colab": {
      "name": "BrainTumorDetection.ipynb",
      "provenance": []
    },
    "kernelspec": {
      "name": "python3",
      "display_name": "Python 3"
    },
    "language_info": {
      "name": "python"
    }
  },
  "cells": [
    {
      "cell_type": "code",
      "metadata": {
        "id": "zSj0xgD382Py"
      },
      "source": [
        "import os\n",
        "import keras\n",
        "from keras.models import Sequential\n",
        "from keras.layers import Conv2D, MaxPooling2D, Flatten, Dense, Dropout, BatchNormalization, AveragePooling2D\n",
        "from PIL import Image\n",
        "import numpy as np\n",
        "import pandas as pd\n",
        "from matplotlib import pyplot as plt\n",
        "from sklearn.model_selection import train_test_split\n",
        "from sklearn.preprocessing import OneHotEncoder"
      ],
      "execution_count": null,
      "outputs": []
    },
    {
      "cell_type": "code",
      "metadata": {
        "colab": {
          "base_uri": "https://localhost:8080/"
        },
        "id": "qLnyIRci91mA",
        "outputId": "f7f0fe33-3c35-47b0-9367-3daa8ed9fe12"
      },
      "source": [
        "enocder = OneHotEncoder()\n",
        "enocder.fit([[0], [1]])\n",
        "# 0 - Tumor\n",
        "# 1 - not tumor"
      ],
      "execution_count": null,
      "outputs": [
        {
          "output_type": "execute_result",
          "data": {
            "text/plain": [
              "OneHotEncoder(categories='auto', drop=None, dtype=<class 'numpy.float64'>,\n",
              "              handle_unknown='error', sparse=True)"
            ]
          },
          "metadata": {
            "tags": []
          },
          "execution_count": 22
        }
      ]
    },
    {
      "cell_type": "code",
      "metadata": {
        "id": "-o8KysnD-erP"
      },
      "source": [
        "data = []\n",
        "paths = []\n",
        "result = []\n",
        "\n",
        "for r, d, f in os.walk('/content/drive/MyDrive/brain_tumor_dataset/yes'):\n",
        "    for file in f:\n",
        "        if '.jpg' in file:\n",
        "            paths.append(os.path.join(r, file))\n",
        "for path in paths:\n",
        "    img = Image.open(path)\n",
        "    img = img.resize((128, 128))\n",
        "    img = np.array(img)\n",
        "    if (img.shape == (128, 128, 3)):\n",
        "        data.append(np.array(img))\n",
        "        result.append(enocder.transform([[0]]).toarray())\n",
        "      "
      ],
      "execution_count": null,
      "outputs": []
    },
    {
      "cell_type": "code",
      "metadata": {
        "id": "HQwyLKTFG2XA"
      },
      "source": [
        "paths = []\n",
        "for r, d, f in os.walk('/content/drive/MyDrive/brain_tumor_dataset/no'):\n",
        "    for file in f:\n",
        "        if '.jpg' in file:\n",
        "            paths.append(os.path.join(r, file))\n",
        "for path in paths:\n",
        "    img = Image.open(path)\n",
        "    img = img.resize((128, 128))\n",
        "    img = np.array(img)\n",
        "    if (img.shape == (128, 128, 3)):\n",
        "        data.append(np.array(img))\n",
        "        result.append(enocder.transform([[1]]).toarray())         \n",
        " "
      ],
      "execution_count": null,
      "outputs": []
    },
    {
      "cell_type": "code",
      "metadata": {
        "id": "ssXwfSt8HMq1",
        "colab": {
          "base_uri": "https://localhost:8080/"
        },
        "outputId": "6203df0f-ae66-42d4-8c18-e0d197e29fb6"
      },
      "source": [
        "data = np.array(data)\n",
        "data.shape"
      ],
      "execution_count": null,
      "outputs": [
        {
          "output_type": "execute_result",
          "data": {
            "text/plain": [
              "(139, 128, 128, 3)"
            ]
          },
          "metadata": {
            "tags": []
          },
          "execution_count": 25
        }
      ]
    },
    {
      "cell_type": "code",
      "metadata": {
        "id": "7wHKL7VSHXGt",
        "colab": {
          "base_uri": "https://localhost:8080/"
        },
        "outputId": "87a95dab-5a4d-4d83-c977-9d1dcbe89029"
      },
      "source": [
        "result = np.array(result)\n",
        "print(result.shape)\n",
        "result = result.reshape(139, 2)\n"
      ],
      "execution_count": null,
      "outputs": [
        {
          "output_type": "stream",
          "text": [
            "(139, 1, 2)\n"
          ],
          "name": "stdout"
        }
      ]
    },
    {
      "cell_type": "code",
      "metadata": {
        "id": "VEmioOZOHkrw"
      },
      "source": [
        "x_train, x_test, y_train, y_test = train_test_split(data, result, test_size=0.2, shuffle=True, random_state=0)"
      ],
      "execution_count": null,
      "outputs": []
    },
    {
      "cell_type": "code",
      "metadata": {
        "id": "yIJETwK2H9AI",
        "colab": {
          "base_uri": "https://localhost:8080/"
        },
        "outputId": "56b5fab7-6cc8-48c7-e4a6-eb37ceaabfef"
      },
      "source": [
        "model = Sequential()\n",
        "\n",
        "model.add(Conv2D(32, kernel_size=(2, 2), input_shape=(128, 128, 3), padding = 'Same'))\n",
        "model.add(Conv2D(32, kernel_size=(2, 2),  activation ='relu', padding = 'Same'))\n",
        "\n",
        "\n",
        "model.add(BatchNormalization())\n",
        "model.add(MaxPooling2D(pool_size=(2, 2)))\n",
        "model.add(Dropout(0.25))\n",
        "\n",
        "model.add(Conv2D(64, kernel_size = (2,2), activation ='relu', padding = 'Same'))\n",
        "model.add(Conv2D(64, kernel_size = (2,2), activation ='relu', padding = 'Same'))\n",
        "\n",
        "model.add(BatchNormalization())\n",
        "model.add(MaxPooling2D(pool_size=(2,2), strides=(2,2)))\n",
        "model.add(Dropout(0.25))\n",
        "\n",
        "model.add(Flatten())\n",
        "\n",
        "model.add(Dense(512, activation='relu'))\n",
        "model.add(Dropout(0.5))\n",
        "model.add(Dense(2, activation='softmax'))\n",
        "\n",
        "model.compile(loss = \"categorical_crossentropy\", optimizer='Adamax')\n",
        "print(model.summary())\n",
        "\n"
      ],
      "execution_count": null,
      "outputs": [
        {
          "output_type": "stream",
          "text": [
            "Model: \"sequential_1\"\n",
            "_________________________________________________________________\n",
            "Layer (type)                 Output Shape              Param #   \n",
            "=================================================================\n",
            "conv2d_4 (Conv2D)            (None, 128, 128, 32)      416       \n",
            "_________________________________________________________________\n",
            "conv2d_5 (Conv2D)            (None, 128, 128, 32)      4128      \n",
            "_________________________________________________________________\n",
            "batch_normalization_2 (Batch (None, 128, 128, 32)      128       \n",
            "_________________________________________________________________\n",
            "max_pooling2d_2 (MaxPooling2 (None, 64, 64, 32)        0         \n",
            "_________________________________________________________________\n",
            "dropout_3 (Dropout)          (None, 64, 64, 32)        0         \n",
            "_________________________________________________________________\n",
            "conv2d_6 (Conv2D)            (None, 64, 64, 64)        8256      \n",
            "_________________________________________________________________\n",
            "conv2d_7 (Conv2D)            (None, 64, 64, 64)        16448     \n",
            "_________________________________________________________________\n",
            "batch_normalization_3 (Batch (None, 64, 64, 64)        256       \n",
            "_________________________________________________________________\n",
            "max_pooling2d_3 (MaxPooling2 (None, 32, 32, 64)        0         \n",
            "_________________________________________________________________\n",
            "dropout_4 (Dropout)          (None, 32, 32, 64)        0         \n",
            "_________________________________________________________________\n",
            "flatten_1 (Flatten)          (None, 65536)             0         \n",
            "_________________________________________________________________\n",
            "dense_2 (Dense)              (None, 512)               33554944  \n",
            "_________________________________________________________________\n",
            "dropout_5 (Dropout)          (None, 512)               0         \n",
            "_________________________________________________________________\n",
            "dense_3 (Dense)              (None, 2)                 1026      \n",
            "=================================================================\n",
            "Total params: 33,585,602\n",
            "Trainable params: 33,585,410\n",
            "Non-trainable params: 192\n",
            "_________________________________________________________________\n",
            "None\n"
          ],
          "name": "stdout"
        }
      ]
    },
    {
      "cell_type": "code",
      "metadata": {
        "id": "CMxg5-NdJ6Et",
        "colab": {
          "base_uri": "https://localhost:8080/"
        },
        "outputId": "07716e8d-a10e-4ab6-8f4e-3528be1689c7"
      },
      "source": [
        "x_train.shape, y_train.shape"
      ],
      "execution_count": null,
      "outputs": [
        {
          "output_type": "execute_result",
          "data": {
            "text/plain": [
              "((111, 128, 128, 3), (111, 2))"
            ]
          },
          "metadata": {
            "tags": []
          },
          "execution_count": 29
        }
      ]
    },
    {
      "cell_type": "code",
      "metadata": {
        "id": "fgv4_JJhKLYO",
        "colab": {
          "base_uri": "https://localhost:8080/"
        },
        "outputId": "c3180c7e-36ae-42e3-cbd1-2f06ed8050a5"
      },
      "source": [
        "model.compile(loss='binary_crossentropy', optimizer='adam', metrics=['accuracy'])\n",
        "history = model.fit(x_train, y_train, epochs=40, batch_size=40, verbose=1, validation_split=0.2, validation_data=(x_test, y_test), shuffle=True)"
      ],
      "execution_count": null,
      "outputs": [
        {
          "output_type": "stream",
          "text": [
            "Epoch 1/40\n",
            "3/3 [==============================] - 7s 2s/step - loss: 27.7079 - accuracy: 0.5071 - val_loss: 66.3256 - val_accuracy: 0.7391\n",
            "Epoch 2/40\n",
            "3/3 [==============================] - 5s 1s/step - loss: 16.9572 - accuracy: 0.6727 - val_loss: 36.9386 - val_accuracy: 0.6522\n",
            "Epoch 3/40\n",
            "3/3 [==============================] - 5s 1s/step - loss: 7.3501 - accuracy: 0.7972 - val_loss: 8.0915 - val_accuracy: 0.6957\n",
            "Epoch 4/40\n",
            "3/3 [==============================] - 5s 1s/step - loss: 2.4778 - accuracy: 0.8563 - val_loss: 31.7932 - val_accuracy: 0.5217\n",
            "Epoch 5/40\n",
            "3/3 [==============================] - 5s 1s/step - loss: 7.0042 - accuracy: 0.7489 - val_loss: 14.9473 - val_accuracy: 0.6087\n",
            "Epoch 6/40\n",
            "3/3 [==============================] - 5s 1s/step - loss: 1.9387 - accuracy: 0.8983 - val_loss: 39.1025 - val_accuracy: 0.5217\n",
            "Epoch 7/40\n",
            "3/3 [==============================] - 5s 1s/step - loss: 2.5059 - accuracy: 0.8568 - val_loss: 15.3611 - val_accuracy: 0.6087\n",
            "Epoch 8/40\n",
            "3/3 [==============================] - 5s 1s/step - loss: 0.3787 - accuracy: 0.9403 - val_loss: 6.5073 - val_accuracy: 0.8261\n",
            "Epoch 9/40\n",
            "3/3 [==============================] - 5s 1s/step - loss: 0.2928 - accuracy: 0.9855 - val_loss: 9.8551 - val_accuracy: 0.7391\n",
            "Epoch 10/40\n",
            "3/3 [==============================] - 5s 1s/step - loss: 0.4611 - accuracy: 0.9372 - val_loss: 3.0099 - val_accuracy: 0.8696\n",
            "Epoch 11/40\n",
            "3/3 [==============================] - 5s 1s/step - loss: 0.4772 - accuracy: 0.9108 - val_loss: 1.6645 - val_accuracy: 0.8696\n",
            "Epoch 12/40\n",
            "3/3 [==============================] - 5s 1s/step - loss: 0.4222 - accuracy: 0.9705 - val_loss: 1.7124 - val_accuracy: 0.9130\n",
            "Epoch 13/40\n",
            "3/3 [==============================] - 5s 1s/step - loss: 0.0615 - accuracy: 0.9793 - val_loss: 1.9073 - val_accuracy: 0.9130\n",
            "Epoch 14/40\n",
            "3/3 [==============================] - 5s 1s/step - loss: 0.3025 - accuracy: 0.9912 - val_loss: 3.7408 - val_accuracy: 0.8261\n",
            "Epoch 15/40\n",
            "3/3 [==============================] - 5s 1s/step - loss: 0.1696 - accuracy: 0.9761 - val_loss: 5.0978 - val_accuracy: 0.8261\n",
            "Epoch 16/40\n",
            "3/3 [==============================] - 5s 1s/step - loss: 0.3328 - accuracy: 0.9585 - val_loss: 4.1615 - val_accuracy: 0.8261\n",
            "Epoch 17/40\n",
            "3/3 [==============================] - 5s 1s/step - loss: 0.4614 - accuracy: 0.9554 - val_loss: 2.8704 - val_accuracy: 0.8696\n",
            "Epoch 18/40\n",
            "3/3 [==============================] - 5s 1s/step - loss: 0.0798 - accuracy: 0.9912 - val_loss: 2.0653 - val_accuracy: 0.8696\n",
            "Epoch 19/40\n",
            "3/3 [==============================] - 5s 1s/step - loss: 0.0319 - accuracy: 1.0000 - val_loss: 1.3510 - val_accuracy: 0.8261\n",
            "Epoch 20/40\n",
            "3/3 [==============================] - 5s 1s/step - loss: 0.0340 - accuracy: 1.0000 - val_loss: 1.3092 - val_accuracy: 0.8261\n",
            "Epoch 21/40\n",
            "3/3 [==============================] - 5s 1s/step - loss: 0.1250 - accuracy: 0.9705 - val_loss: 1.6981 - val_accuracy: 0.8261\n",
            "Epoch 22/40\n",
            "3/3 [==============================] - 5s 1s/step - loss: 0.0507 - accuracy: 1.0000 - val_loss: 2.3980 - val_accuracy: 0.8261\n",
            "Epoch 23/40\n",
            "3/3 [==============================] - 5s 1s/step - loss: 0.0033 - accuracy: 1.0000 - val_loss: 3.6660 - val_accuracy: 0.8696\n",
            "Epoch 24/40\n",
            "3/3 [==============================] - 5s 1s/step - loss: 0.0260 - accuracy: 1.0000 - val_loss: 4.4833 - val_accuracy: 0.8696\n",
            "Epoch 25/40\n",
            "3/3 [==============================] - 5s 1s/step - loss: 0.1700 - accuracy: 0.9912 - val_loss: 4.0928 - val_accuracy: 0.8696\n",
            "Epoch 26/40\n",
            "3/3 [==============================] - 5s 1s/step - loss: 0.3462 - accuracy: 0.9849 - val_loss: 3.4495 - val_accuracy: 0.8261\n",
            "Epoch 27/40\n",
            "3/3 [==============================] - 5s 1s/step - loss: 0.0295 - accuracy: 1.0000 - val_loss: 3.2064 - val_accuracy: 0.8261\n",
            "Epoch 28/40\n",
            "3/3 [==============================] - 5s 1s/step - loss: 0.0150 - accuracy: 1.0000 - val_loss: 3.0669 - val_accuracy: 0.9130\n",
            "Epoch 29/40\n",
            "3/3 [==============================] - 5s 1s/step - loss: 0.1074 - accuracy: 0.9886 - val_loss: 2.8950 - val_accuracy: 0.9130\n",
            "Epoch 30/40\n",
            "3/3 [==============================] - 5s 1s/step - loss: 0.7906 - accuracy: 0.9849 - val_loss: 2.9696 - val_accuracy: 0.8696\n",
            "Epoch 31/40\n",
            "3/3 [==============================] - 5s 1s/step - loss: 0.2032 - accuracy: 0.9611 - val_loss: 2.7271 - val_accuracy: 0.8696\n",
            "Epoch 32/40\n",
            "3/3 [==============================] - 5s 1s/step - loss: 0.0901 - accuracy: 0.9912 - val_loss: 2.4046 - val_accuracy: 0.8696\n",
            "Epoch 33/40\n",
            "3/3 [==============================] - 5s 1s/step - loss: 0.2330 - accuracy: 1.0000 - val_loss: 2.0280 - val_accuracy: 0.9130\n",
            "Epoch 34/40\n",
            "3/3 [==============================] - 5s 1s/step - loss: 0.0726 - accuracy: 0.9849 - val_loss: 1.8882 - val_accuracy: 0.9130\n",
            "Epoch 35/40\n",
            "3/3 [==============================] - 5s 1s/step - loss: 0.0468 - accuracy: 1.0000 - val_loss: 1.7992 - val_accuracy: 0.9565\n",
            "Epoch 36/40\n",
            "3/3 [==============================] - 5s 1s/step - loss: 4.2540e-04 - accuracy: 1.0000 - val_loss: 1.7361 - val_accuracy: 0.9565\n",
            "Epoch 37/40\n",
            "3/3 [==============================] - 5s 1s/step - loss: 0.0023 - accuracy: 1.0000 - val_loss: 1.6702 - val_accuracy: 0.9565\n",
            "Epoch 38/40\n",
            "3/3 [==============================] - 5s 1s/step - loss: 0.0019 - accuracy: 1.0000 - val_loss: 1.6468 - val_accuracy: 0.9565\n",
            "Epoch 39/40\n",
            "3/3 [==============================] - 5s 2s/step - loss: 1.5882e-07 - accuracy: 1.0000 - val_loss: 1.6406 - val_accuracy: 0.9565\n",
            "Epoch 40/40\n",
            "3/3 [==============================] - 5s 2s/step - loss: 8.1097e-04 - accuracy: 1.0000 - val_loss: 1.6395 - val_accuracy: 0.9565\n"
          ],
          "name": "stdout"
        }
      ]
    },
    {
      "cell_type": "code",
      "metadata": {
        "id": "RlKrXn1uMz-u",
        "colab": {
          "base_uri": "https://localhost:8080/",
          "height": 312
        },
        "outputId": "b523a354-3a9f-4f1f-9714-7ee332236745"
      },
      "source": [
        "plt.plot(history.history['loss'])\n",
        "plt.plot(history.history['val_loss'])\n",
        "plt.title('Model Loss')\n",
        "plt.ylabel('Loss')\n",
        "plt.xlabel('Epoch')\n",
        "plt.legend(['Test', 'Validation'], loc='upper right')\n",
        "plt.show()\n",
        "plt.savefig('brain_tumor_loss.png')"
      ],
      "execution_count": null,
      "outputs": [
        {
          "output_type": "display_data",
          "data": {
            "image/png": "[encoded data removed]",
            "text/plain": [
              "<Figure size 432x288 with 1 Axes>"
            ]
          },
          "metadata": {
            "tags": [],
            "needs_background": "light"
          }
        },
        {
          "output_type": "display_data",
          "data": {
            "text/plain": [
              "<Figure size 432x288 with 0 Axes>"
            ]
          },
          "metadata": {
            "tags": []
          }
        }
      ]
    },
    {
      "cell_type": "code",
      "metadata": {
        "colab": {
          "base_uri": "https://localhost:8080/",
          "height": 312
        },
        "id": "zxZNIVOLJSxf",
        "outputId": "f800d026-1124-4f40-92be-49483b658966"
      },
      "source": [
        "plt.plot(history.history['accuracy'])\n",
        "plt.plot(history.history['val_accuracy'])\n",
        "plt.title('Model Loss')\n",
        "plt.ylabel('Loss')\n",
        "plt.xlabel('Epoch')\n",
        "plt.legend(['Test', 'Validation'], loc='upper right')\n",
        "plt.show()\n",
        "plt.savefig('brain_tumor_accuracy.png')"
      ],
      "execution_count": null,
      "outputs": [
        {
          "output_type": "display_data",
          "data": {
            "image/png": "[encoded data removed]",
            "text/plain": [
              "<Figure size 432x288 with 1 Axes>"
            ]
          },
          "metadata": {
            "tags": [],
            "needs_background": "light"
          }
        },
        {
          "output_type": "display_data",
          "data": {
            "text/plain": [
              "<Figure size 432x288 with 0 Axes>"
            ]
          },
          "metadata": {
            "tags": []
          }
        }
      ]
    },
    {
      "cell_type": "code",
      "metadata": {
        "id": "Ruif-_3tM-tQ"
      },
      "source": [
        "def names(number):\n",
        "    if number==0:\n",
        "        return 'Its a Tumor'\n",
        "    else:\n",
        "        return 'No, Its not a tumor'"
      ],
      "execution_count": null,
      "outputs": []
    },
    {
      "cell_type": "code",
      "metadata": {
        "id": "GUcZVR5FNW0I",
        "colab": {
          "base_uri": "https://localhost:8080/"
        },
        "outputId": "f59ffee2-2f14-4465-f057-c4076f1d844d"
      },
      "source": [
        "img = Image.open(\"/content/drive/MyDrive/brain_tumor_dataset/no/N17.jpg\")\n",
        "x = np.array(img.resize((128,128)))\n",
        "x = x.reshape(1,128,128,3)\n",
        "res = model.predict_on_batch(x)\n",
        "print(res)\n",
        "classification = np.where(res == np.amax(res))[1][0]\n",
        "print(classification)\n",
        "print(str(res[0][classification]*100) + '% Confidence This Is ' + names(classification))"
      ],
      "execution_count": null,
      "outputs": [
        {
          "output_type": "stream",
          "text": [
            "[[0. 1.]]\n",
            "1\n",
            "100.0% Confidence This Is No, Its not a tumor\n"
          ],
          "name": "stdout"
        }
      ]
    },
    {
      "cell_type": "code",
      "metadata": {
        "id": "qx9e7fywVyph",
        "colab": {
          "base_uri": "https://localhost:8080/"
        },
        "outputId": "a0f8b24d-455e-49b4-b749-052264041963"
      },
      "source": [
        "img = Image.open(\"/content/drive/MyDrive/brain_tumor_dataset/yes/Y155.JPG\")\n",
        "x = np.array(img.resize((128,128)))\n",
        "x = x.reshape(1,128,128,3)\n",
        "res = model.predict_on_batch(x)\n",
        "print(res)\n",
        "classification = np.where(res == np.amax(res))[1][0]\n",
        "print(classification)\n",
        "print(str(res[0][classification]*100) + '% Confidence This Is ' + names(classification))"
      ],
      "execution_count": null,
      "outputs": [
        {
          "output_type": "stream",
          "text": [
            "[[1. 0.]]\n",
            "0\n",
            "100.0% Confidence This Is Its a Tumor\n"
          ],
          "name": "stdout"
        }
      ]
    },
    {
      "cell_type": "code",
      "metadata": {
        "id": "EmtRaub2No1N"
      },
      "source": [
        "model.save('/content/drive/MyDrive/Colab Notebooks/brain_tumor_mymdel.h5')"
      ],
      "execution_count": null,
      "outputs": []
    },
    {
      "cell_type": "code",
      "metadata": {
        "id": "WgoZ7Ho9VKtr",
        "colab": {
          "base_uri": "https://localhost:8080/"
        },
        "outputId": "6be629b4-e15d-400f-a8e0-982c3b9a182e"
      },
      "source": [
        "from keras.models import load_model\n",
        " \n",
        "model = load_model('brain_tumor_mymdel.h5')\n",
        "new.summary()"
      ],
      "execution_count": null,
      "outputs": [
        {
          "output_type": "stream",
          "text": [
            "Model: \"sequential_1\"\n",
            "_________________________________________________________________\n",
            "Layer (type)                 Output Shape              Param #   \n",
            "=================================================================\n",
            "conv2d_4 (Conv2D)            (None, 128, 128, 32)      416       \n",
            "_________________________________________________________________\n",
            "conv2d_5 (Conv2D)            (None, 128, 128, 32)      4128      \n",
            "_________________________________________________________________\n",
            "batch_normalization_2 (Batch (None, 128, 128, 32)      128       \n",
            "_________________________________________________________________\n",
            "max_pooling2d_2 (MaxPooling2 (None, 64, 64, 32)        0         \n",
            "_________________________________________________________________\n",
            "dropout_3 (Dropout)          (None, 64, 64, 32)        0         \n",
            "_________________________________________________________________\n",
            "conv2d_6 (Conv2D)            (None, 64, 64, 64)        8256      \n",
            "_________________________________________________________________\n",
            "conv2d_7 (Conv2D)            (None, 64, 64, 64)        16448     \n",
            "_________________________________________________________________\n",
            "batch_normalization_3 (Batch (None, 64, 64, 64)        256       \n",
            "_________________________________________________________________\n",
            "max_pooling2d_3 (MaxPooling2 (None, 32, 32, 64)        0         \n",
            "_________________________________________________________________\n",
            "dropout_4 (Dropout)          (None, 32, 32, 64)        0         \n",
            "_________________________________________________________________\n",
            "flatten_1 (Flatten)          (None, 65536)             0         \n",
            "_________________________________________________________________\n",
            "dense_2 (Dense)              (None, 512)               33554944  \n",
            "_________________________________________________________________\n",
            "dropout_5 (Dropout)          (None, 512)               0         \n",
            "_________________________________________________________________\n",
            "dense_3 (Dense)              (None, 2)                 1026      \n",
            "=================================================================\n",
            "Total params: 33,585,602\n",
            "Trainable params: 33,585,410\n",
            "Non-trainable params: 192\n",
            "_________________________________________________________________\n"
          ],
          "name": "stdout"
        }
      ]
    },
    {
      "cell_type": "code",
      "metadata": {
        "id": "gGTb38OWrEL-",
        "colab": {
          "base_uri": "https://localhost:8080/"
        },
        "outputId": "c4c8fb6a-a71e-4e2a-8769-3871202953d5"
      },
      "source": [
        "from google.colab import drive\n",
        "drive.mount('/content/drive')"
      ],
      "execution_count": null,
      "outputs": [
        {
          "output_type": "stream",
          "text": [
            "Drive already mounted at /content/drive; to attempt to forcibly remount, call drive.mount(\"/content/drive\", force_remount=True).\n"
          ],
          "name": "stdout"
        }
      ]
    }
  ]
}