{
  "nbformat": 4,
  "nbformat_minor": 0,
  "metadata": {
    "colab": {
      "name": "BrainTumorDetection.ipynb",
      "provenance": []
    },
    "kernelspec": {
      "name": "python3",
      "display_name": "Python 3"
    },
    "language_info": {
      "name": "python"
    }
  },
  "cells": [
    {
      "cell_type": "code",
      "metadata": {
        "id": "zSj0xgD382Py"
      },
      "source": [
        "import os\n",
        "import keras\n",
        "from keras.models import Sequential\n",
        "from keras.layers import Conv2D, MaxPooling2D, Flatten, Dense, Dropout, BatchNormalization, AveragePooling2D\n",
        "from PIL import Image\n",
        "import numpy as np\n",
        "import pandas as pd\n",
        "from matplotlib import pyplot as plt\n",
        "from sklearn.model_selection import train_test_split\n",
        "from sklearn.preprocessing import OneHotEncoder"
      ],
      "execution_count": 11,
      "outputs": []
    },
    {
      "cell_type": "code",
      "metadata": {
        "colab": {
          "base_uri": "https://localhost:8080/"
        },
        "id": "qLnyIRci91mA",
        "outputId": "05250f2a-5128-4e08-e2d1-3ea9f2dfe13f"
      },
      "source": [
        "enocder = OneHotEncoder()\n",
        "enocder.fit([[0], [1]])\n",
        "# 0 - Tumor\n",
        "# 1 - not tumor"
      ],
      "execution_count": 12,
      "outputs": [
        {
          "output_type": "execute_result",
          "data": {
            "text/plain": [
              "OneHotEncoder(categories='auto', drop=None, dtype=<class 'numpy.float64'>,\n",
              "              handle_unknown='error', sparse=True)"
            ]
          },
          "metadata": {},
          "execution_count": 12
        }
      ]
    },
    {
      "cell_type": "code",
      "metadata": {
        "id": "-o8KysnD-erP"
      },
      "source": [
        "data = []\n",
        "paths = []\n",
        "result = []\n",
        "\n",
        "for r, d, f in os.walk('/content/drive/MyDrive/brain_tumor_dataset/yes'):\n",
        "    for file in f:\n",
        "        if '.jpg' in file:\n",
        "            paths.append(os.path.join(r, file))\n",
        "for path in paths:\n",
        "    img = Image.open(path)\n",
        "    img = img.resize((128, 128))\n",
        "    img = np.array(img)\n",
        "    if (img.shape == (128, 128, 3)):\n",
        "        data.append(np.array(img))\n",
        "        result.append(enocder.transform([[0]]).toarray())\n",
        "      "
      ],
      "execution_count": 13,
      "outputs": []
    },
    {
      "cell_type": "code",
      "metadata": {
        "id": "HQwyLKTFG2XA"
      },
      "source": [
        "paths = []\n",
        "for r, d, f in os.walk('/content/drive/MyDrive/brain_tumor_dataset/no'):\n",
        "    for file in f:\n",
        "        if '.jpg' in file:\n",
        "            paths.append(os.path.join(r, file))\n",
        "for path in paths:\n",
        "    img = Image.open(path)\n",
        "    img = img.resize((128, 128))\n",
        "    img = np.array(img)\n",
        "    if (img.shape == (128, 128, 3)):\n",
        "        data.append(np.array(img))\n",
        "        result.append(enocder.transform([[1]]).toarray())         \n",
        " "
      ],
      "execution_count": 14,
      "outputs": []
    },
    {
      "cell_type": "code",
      "metadata": {
        "id": "ssXwfSt8HMq1",
        "colab": {
          "base_uri": "https://localhost:8080/"
        },
        "outputId": "b1022bf2-b295-4049-c472-931a6c722c44"
      },
      "source": [
        "data = np.array(data)\n",
        "data.shape"
      ],
      "execution_count": 15,
      "outputs": [
        {
          "output_type": "execute_result",
          "data": {
            "text/plain": [
              "(139, 128, 128, 3)"
            ]
          },
          "metadata": {},
          "execution_count": 15
        }
      ]
    },
    {
      "cell_type": "code",
      "metadata": {
        "id": "7wHKL7VSHXGt",
        "colab": {
          "base_uri": "https://localhost:8080/"
        },
        "outputId": "caa4ac58-5425-4cdb-da9b-64869656de73"
      },
      "source": [
        "result = np.array(result)\n",
        "print(result.shape)\n",
        "result = result.reshape(139, 2)\n"
      ],
      "execution_count": 16,
      "outputs": [
        {
          "output_type": "stream",
          "text": [
            "(139, 1, 2)\n"
          ],
          "name": "stdout"
        }
      ]
    },
    {
      "cell_type": "code",
      "metadata": {
        "id": "VEmioOZOHkrw"
      },
      "source": [
        "x_train, x_test, y_train, y_test = train_test_split(data, result, test_size=0.2, shuffle=True, random_state=0)"
      ],
      "execution_count": 17,
      "outputs": []
    },
    {
      "cell_type": "code",
      "metadata": {
        "id": "yIJETwK2H9AI",
        "colab": {
          "base_uri": "https://localhost:8080/"
        },
        "outputId": "02acba3d-f905-40e6-f8e5-ff546499c3fb"
      },
      "source": [
        "model = Sequential()\n",
        "\n",
        "model.add(Conv2D(32, kernel_size=(2, 2), input_shape=(128, 128, 3), padding = 'Same'))\n",
        "model.add(Conv2D(32, kernel_size=(2, 2),  activation ='relu', padding = 'Same'))\n",
        "\n",
        "\n",
        "model.add(BatchNormalization())\n",
        "model.add(MaxPooling2D(pool_size=(2, 2)))\n",
        "model.add(Dropout(0.25))\n",
        "\n",
        "model.add(Conv2D(64, kernel_size = (2,2), activation ='relu', padding = 'Same'))\n",
        "model.add(Conv2D(64, kernel_size = (2,2), activation ='relu', padding = 'Same'))\n",
        "\n",
        "model.add(BatchNormalization())\n",
        "model.add(MaxPooling2D(pool_size=(2,2), strides=(2,2)))\n",
        "model.add(Dropout(0.25))\n",
        "\n",
        "model.add(Flatten())\n",
        "\n",
        "model.add(Dense(512, activation='relu'))\n",
        "model.add(Dropout(0.5))\n",
        "model.add(Dense(2, activation='softmax'))\n",
        "\n",
        "model.compile(loss = \"categorical_crossentropy\", optimizer='Adamax')\n",
        "print(model.summary())\n",
        "\n"
      ],
      "execution_count": 18,
      "outputs": [
        {
          "output_type": "stream",
          "text": [
            "Model: \"sequential_1\"\n",
            "_________________________________________________________________\n",
            "Layer (type)                 Output Shape              Param #   \n",
            "=================================================================\n",
            "conv2d_4 (Conv2D)            (None, 128, 128, 32)      416       \n",
            "_________________________________________________________________\n",
            "conv2d_5 (Conv2D)            (None, 128, 128, 32)      4128      \n",
            "_________________________________________________________________\n",
            "batch_normalization_2 (Batch (None, 128, 128, 32)      128       \n",
            "_________________________________________________________________\n",
            "max_pooling2d_2 (MaxPooling2 (None, 64, 64, 32)        0         \n",
            "_________________________________________________________________\n",
            "dropout_3 (Dropout)          (None, 64, 64, 32)        0         \n",
            "_________________________________________________________________\n",
            "conv2d_6 (Conv2D)            (None, 64, 64, 64)        8256      \n",
            "_________________________________________________________________\n",
            "conv2d_7 (Conv2D)            (None, 64, 64, 64)        16448     \n",
            "_________________________________________________________________\n",
            "batch_normalization_3 (Batch (None, 64, 64, 64)        256       \n",
            "_________________________________________________________________\n",
            "max_pooling2d_3 (MaxPooling2 (None, 32, 32, 64)        0         \n",
            "_________________________________________________________________\n",
            "dropout_4 (Dropout)          (None, 32, 32, 64)        0         \n",
            "_________________________________________________________________\n",
            "flatten_1 (Flatten)          (None, 65536)             0         \n",
            "_________________________________________________________________\n",
            "dense_2 (Dense)              (None, 512)               33554944  \n",
            "_________________________________________________________________\n",
            "dropout_5 (Dropout)          (None, 512)               0         \n",
            "_________________________________________________________________\n",
            "dense_3 (Dense)              (None, 2)                 1026      \n",
            "=================================================================\n",
            "Total params: 33,585,602\n",
            "Trainable params: 33,585,410\n",
            "Non-trainable params: 192\n",
            "_________________________________________________________________\n",
            "None\n"
          ],
          "name": "stdout"
        }
      ]
    },
    {
      "cell_type": "code",
      "metadata": {
        "id": "CMxg5-NdJ6Et",
        "colab": {
          "base_uri": "https://localhost:8080/"
        },
        "outputId": "6c0f4f37-77eb-4a1c-8e9d-9ee2e6f8ea8a"
      },
      "source": [
        "x_train.shape, y_train.shape"
      ],
      "execution_count": 19,
      "outputs": [
        {
          "output_type": "execute_result",
          "data": {
            "text/plain": [
              "((111, 128, 128, 3), (111, 2))"
            ]
          },
          "metadata": {},
          "execution_count": 19
        }
      ]
    },
    {
      "cell_type": "code",
      "metadata": {
        "id": "fgv4_JJhKLYO",
        "colab": {
          "base_uri": "https://localhost:8080/"
        },
        "outputId": "694af0be-4f7b-403d-955a-f4327132048c"
      },
      "source": [
        "model.compile(loss='binary_crossentropy', optimizer='adam', metrics=['accuracy'])\n",
        "history = model.fit(x_train, y_train, epochs=40, batch_size=40, verbose=1, validation_split=0.2, validation_data=(x_test, y_test), shuffle=True)"
      ],
      "execution_count": 20,
      "outputs": [
        {
          "output_type": "stream",
          "text": [
            "Epoch 1/40\n",
            "3/3 [==============================] - 7s 2s/step - loss: 29.8824 - accuracy: 0.5795 - val_loss: 83.3119 - val_accuracy: 0.5217\n",
            "Epoch 2/40\n",
            "3/3 [==============================] - 5s 2s/step - loss: 16.0036 - accuracy: 0.7273 - val_loss: 54.1832 - val_accuracy: 0.5652\n",
            "Epoch 3/40\n",
            "3/3 [==============================] - 5s 2s/step - loss: 7.2550 - accuracy: 0.7955 - val_loss: 16.8347 - val_accuracy: 0.7391\n",
            "Epoch 4/40\n",
            "3/3 [==============================] - 6s 2s/step - loss: 2.2978 - accuracy: 0.8977 - val_loss: 2.7783 - val_accuracy: 0.8261\n",
            "Epoch 5/40\n",
            "3/3 [==============================] - 5s 2s/step - loss: 1.1712 - accuracy: 0.9432 - val_loss: 6.7267 - val_accuracy: 0.8696\n",
            "Epoch 6/40\n",
            "3/3 [==============================] - 5s 2s/step - loss: 1.8525 - accuracy: 0.9318 - val_loss: 4.2975 - val_accuracy: 0.8696\n",
            "Epoch 7/40\n",
            "3/3 [==============================] - 5s 2s/step - loss: 0.8534 - accuracy: 0.9432 - val_loss: 2.3024 - val_accuracy: 0.9130\n",
            "Epoch 8/40\n",
            "3/3 [==============================] - 5s 2s/step - loss: 0.2918 - accuracy: 0.9659 - val_loss: 2.0279 - val_accuracy: 0.7826\n",
            "Epoch 9/40\n",
            "3/3 [==============================] - 5s 2s/step - loss: 0.1873 - accuracy: 1.0000 - val_loss: 1.6425 - val_accuracy: 0.9130\n",
            "Epoch 10/40\n",
            "3/3 [==============================] - 5s 2s/step - loss: 0.1778 - accuracy: 0.9659 - val_loss: 2.3642 - val_accuracy: 0.9130\n",
            "Epoch 11/40\n",
            "3/3 [==============================] - 5s 2s/step - loss: 0.5012 - accuracy: 0.9432 - val_loss: 3.3713 - val_accuracy: 0.8261\n",
            "Epoch 12/40\n",
            "3/3 [==============================] - 5s 2s/step - loss: 0.0641 - accuracy: 0.9886 - val_loss: 4.1405 - val_accuracy: 0.8261\n",
            "Epoch 13/40\n",
            "3/3 [==============================] - 5s 2s/step - loss: 0.0196 - accuracy: 1.0000 - val_loss: 3.7546 - val_accuracy: 0.8261\n",
            "Epoch 14/40\n",
            "3/3 [==============================] - 5s 2s/step - loss: 0.0312 - accuracy: 0.9886 - val_loss: 2.6064 - val_accuracy: 0.8696\n",
            "Epoch 15/40\n",
            "3/3 [==============================] - 5s 2s/step - loss: 0.0562 - accuracy: 0.9773 - val_loss: 1.8598 - val_accuracy: 0.9130\n",
            "Epoch 16/40\n",
            "3/3 [==============================] - 6s 2s/step - loss: 0.0028 - accuracy: 1.0000 - val_loss: 1.5134 - val_accuracy: 0.9565\n",
            "Epoch 17/40\n",
            "3/3 [==============================] - 5s 2s/step - loss: 0.0014 - accuracy: 1.0000 - val_loss: 1.3238 - val_accuracy: 0.9130\n",
            "Epoch 18/40\n",
            "3/3 [==============================] - 5s 2s/step - loss: 0.0020 - accuracy: 1.0000 - val_loss: 1.2520 - val_accuracy: 0.8696\n",
            "Epoch 19/40\n",
            "3/3 [==============================] - 5s 2s/step - loss: 0.0296 - accuracy: 1.0000 - val_loss: 1.2087 - val_accuracy: 0.9130\n",
            "Epoch 20/40\n",
            "3/3 [==============================] - 6s 2s/step - loss: 0.0841 - accuracy: 1.0000 - val_loss: 1.2804 - val_accuracy: 0.9565\n",
            "Epoch 21/40\n",
            "3/3 [==============================] - 6s 2s/step - loss: 0.0096 - accuracy: 1.0000 - val_loss: 1.5586 - val_accuracy: 0.9130\n",
            "Epoch 22/40\n",
            "3/3 [==============================] - 5s 2s/step - loss: 0.0178 - accuracy: 1.0000 - val_loss: 1.6647 - val_accuracy: 0.9130\n",
            "Epoch 23/40\n",
            "3/3 [==============================] - 5s 2s/step - loss: 0.0305 - accuracy: 1.0000 - val_loss: 1.8715 - val_accuracy: 0.9130\n",
            "Epoch 24/40\n",
            "3/3 [==============================] - 5s 2s/step - loss: 3.7488e-06 - accuracy: 1.0000 - val_loss: 2.0065 - val_accuracy: 0.9130\n",
            "Epoch 25/40\n",
            "3/3 [==============================] - 5s 2s/step - loss: 0.0474 - accuracy: 0.9886 - val_loss: 2.0568 - val_accuracy: 0.9130\n",
            "Epoch 26/40\n",
            "3/3 [==============================] - 5s 2s/step - loss: 0.1026 - accuracy: 0.9886 - val_loss: 1.3915 - val_accuracy: 0.9130\n",
            "Epoch 27/40\n",
            "3/3 [==============================] - 5s 2s/step - loss: 2.8441e-05 - accuracy: 1.0000 - val_loss: 1.0097 - val_accuracy: 0.9565\n",
            "Epoch 28/40\n",
            "3/3 [==============================] - 5s 2s/step - loss: 0.0079 - accuracy: 1.0000 - val_loss: 0.9194 - val_accuracy: 0.9565\n",
            "Epoch 29/40\n",
            "3/3 [==============================] - 5s 2s/step - loss: 0.0044 - accuracy: 1.0000 - val_loss: 0.8688 - val_accuracy: 0.9565\n",
            "Epoch 30/40\n",
            "3/3 [==============================] - 5s 2s/step - loss: 7.4789e-04 - accuracy: 1.0000 - val_loss: 0.8414 - val_accuracy: 0.9565\n",
            "Epoch 31/40\n",
            "3/3 [==============================] - 5s 2s/step - loss: 0.0341 - accuracy: 0.9886 - val_loss: 0.8508 - val_accuracy: 0.9565\n",
            "Epoch 32/40\n",
            "3/3 [==============================] - 5s 2s/step - loss: 1.6632e-06 - accuracy: 1.0000 - val_loss: 0.8618 - val_accuracy: 0.9565\n",
            "Epoch 33/40\n",
            "3/3 [==============================] - 5s 2s/step - loss: 7.0722e-06 - accuracy: 1.0000 - val_loss: 0.8615 - val_accuracy: 0.9565\n",
            "Epoch 34/40\n",
            "3/3 [==============================] - 5s 2s/step - loss: 9.3511e-07 - accuracy: 1.0000 - val_loss: 0.8580 - val_accuracy: 0.9565\n",
            "Epoch 35/40\n",
            "3/3 [==============================] - 5s 2s/step - loss: 9.2049e-06 - accuracy: 1.0000 - val_loss: 0.8480 - val_accuracy: 0.9565\n",
            "Epoch 36/40\n",
            "3/3 [==============================] - 5s 2s/step - loss: 8.2953e-06 - accuracy: 1.0000 - val_loss: 0.8344 - val_accuracy: 0.9565\n",
            "Epoch 37/40\n",
            "3/3 [==============================] - 5s 2s/step - loss: 4.5357e-04 - accuracy: 1.0000 - val_loss: 0.8139 - val_accuracy: 0.9565\n",
            "Epoch 38/40\n",
            "3/3 [==============================] - 5s 2s/step - loss: 0.0291 - accuracy: 1.0000 - val_loss: 0.6907 - val_accuracy: 0.9565\n",
            "Epoch 39/40\n",
            "3/3 [==============================] - 5s 2s/step - loss: 1.9382e-06 - accuracy: 1.0000 - val_loss: 0.6038 - val_accuracy: 0.9565\n",
            "Epoch 40/40\n",
            "3/3 [==============================] - 5s 2s/step - loss: 0.0252 - accuracy: 0.9886 - val_loss: 0.9554 - val_accuracy: 0.9565\n"
          ],
          "name": "stdout"
        }
      ]
    },
    {
      "cell_type": "code",
      "metadata": {
        "id": "RlKrXn1uMz-u",
        "colab": {
          "base_uri": "https://localhost:8080/",
          "height": 313
        },
        "outputId": "39ffa094-c25a-4ff4-90c8-dedd50e7cdb1"
      },
      "source": [
        "plt.plot(history.history['loss'])\n",
        "plt.plot(history.history['val_loss'])\n",
        "plt.title('Model Loss')\n",
        "plt.ylabel('Loss')\n",
        "plt.xlabel('Epoch')\n",
        "plt.legend(['Test', 'Validation'], loc='upper right')\n",
        "plt.show()\n",
        "plt.savefig('brain_tumor_loss.png')"
      ],
      "execution_count": 21,
      "outputs": [
        {
          "output_type": "display_data",
          "data": {
            "image/png": "[encoded data removed]",
            "text/plain": [
              "<Figure size 432x288 with 1 Axes>"
            ]
          },
          "metadata": {
            "needs_background": "light"
          }
        },
        {
          "output_type": "display_data",
          "data": {
            "text/plain": [
              "<Figure size 432x288 with 0 Axes>"
            ]
          },
          "metadata": {}
        }
      ]
    },
    {
      "cell_type": "code",
      "metadata": {
        "colab": {
          "base_uri": "https://localhost:8080/",
          "height": 313
        },
        "id": "zxZNIVOLJSxf",
        "outputId": "a6c3c2c0-633e-4743-81a6-50493cb2af68"
      },
      "source": [
        "plt.plot(history.history['accuracy'])\n",
        "plt.plot(history.history['val_accuracy'])\n",
        "plt.title('Model Accuracy')\n",
        "plt.ylabel('Accuracy')\n",
        "plt.xlabel('Epoch')\n",
        "plt.legend(['Test', 'Validation'], loc='upper right')\n",
        "plt.show()\n",
        "plt.savefig('brain_tumor_accuracy.png')"
      ],
      "execution_count": 22,
      "outputs": [
        {
          "output_type": "display_data",
          "data": {
            "image/png": "[encoded data removed]",
            "text/plain": [
              "<Figure size 432x288 with 1 Axes>"
            ]
          },
          "metadata": {
            "needs_background": "light"
          }
        },
        {
          "output_type": "display_data",
          "data": {
            "text/plain": [
              "<Figure size 432x288 with 0 Axes>"
            ]
          },
          "metadata": {}
        }
      ]
    },
    {
      "cell_type": "code",
      "metadata": {
        "id": "Ruif-_3tM-tQ"
      },
      "source": [
        "def names(number):\n",
        "    if number==0:\n",
        "        return 'Its a Tumor'\n",
        "    else:\n",
        "        return 'No, Its not a tumor'"
      ],
      "execution_count": 26,
      "outputs": []
    },
    {
      "cell_type": "code",
      "metadata": {
        "id": "GUcZVR5FNW0I",
        "colab": {
          "base_uri": "https://localhost:8080/"
        },
        "outputId": "2ceacaca-c684-4bfa-f4fc-a78fddfd9689"
      },
      "source": [
        "img = Image.open(\"/content/drive/MyDrive/brain_tumor_dataset/no/N17.jpg\")\n",
        "x = np.array(img.resize((128,128)))\n",
        "x = x.reshape(1,128,128,3)\n",
        "res = model.predict_on_batch(x)\n",
        "print(res)\n",
        "classification = np.where(res == np.amax(res))[1][0]\n",
        "print(classification)\n",
        "print(str(res[0][classification]*100) + '% Confidence This Is ' + names(classification))"
      ],
      "execution_count": 27,
      "outputs": [
        {
          "output_type": "stream",
          "text": [
            "[[1.880419e-26 1.000000e+00]]\n",
            "1\n",
            "100.0% Confidence This Is No, Its not a tumor\n"
          ],
          "name": "stdout"
        }
      ]
    },
    {
      "cell_type": "code",
      "metadata": {
        "id": "qx9e7fywVyph",
        "colab": {
          "base_uri": "https://localhost:8080/"
        },
        "outputId": "f789ed9c-8682-402d-977d-36485dc8853d"
      },
      "source": [
        "img = Image.open(\"/content/drive/MyDrive/brain_tumor_dataset/yes/Y155.JPG\")\n",
        "x = np.array(img.resize((128,128)))\n",
        "x = x.reshape(1,128,128,3)\n",
        "res = model.predict_on_batch(x)\n",
        "print(res)\n",
        "classification = np.where(res == np.amax(res))[1][0]\n",
        "print(classification)\n",
        "print(str(res[0][classification]*100) + '% Confidence This Is ' + names(classification))"
      ],
      "execution_count": 28,
      "outputs": [
        {
          "output_type": "stream",
          "text": [
            "[[1. 0.]]\n",
            "0\n",
            "100.0% Confidence This Is Its a Tumor\n"
          ],
          "name": "stdout"
        }
      ]
    },
    {
      "cell_type": "code",
      "metadata": {
        "id": "EmtRaub2No1N"
      },
      "source": [
        "model.save('/content/drive/MyDrive/Colab Notebooks/brain_tumor_model.h5')"
      ],
      "execution_count": 29,
      "outputs": []
    },
    {
      "cell_type": "code",
      "metadata": {
        "id": "ERsYSfDPLFup"
      },
      "source": [
        "from keras.models import load_model\n",
        " \n",
        "model = load_model('brain_tumor_mymodel.h5')\n",
        "new.summary()"
      ],
      "execution_count": 30,
      "outputs": []
    },
    {
      "cell_type": "code",
      "metadata": {
        "id": "gGTb38OWrEL-",
        "colab": {
          "base_uri": "https://localhost:8080/"
        },
        "outputId": "59c0aff6-36c1-4823-857e-30c8346c604c"
      },
      "source": [
        "from google.colab import drive\n",
        "drive.mount('/content/drive')"
      ],
      "execution_count": 31,
      "outputs": [
        {
          "output_type": "stream",
          "text": [
            "Drive already mounted at /content/drive; to attempt to forcibly remount, call drive.mount(\"/content/drive\", force_remount=True).\n"
          ],
          "name": "stdout"
        }
      ]
    }
  ]
}
